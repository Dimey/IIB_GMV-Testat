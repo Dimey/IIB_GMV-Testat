{
 "cells": [
  {
   "cell_type": "code",
   "execution_count": 1,
   "metadata": {},
   "outputs": [],
   "source": [
    "import pandas as pd\n",
    "\n",
    "#tucanliste = pd.read_excel(r\"C:\\Users\\larsf\\HESSENBOX-DA\\GMV-Tutoren WiSe 2021_2022 (Pascal Mosler)\\Geogebra-Tool\\Sonstige Dateien\\TUCaNTeilnehmer.xlsx\", header = None)"
   ]
  },
  {
   "cell_type": "code",
   "execution_count": 2,
   "metadata": {},
   "outputs": [
    {
     "ename": "NameError",
     "evalue": "name 'tucanliste' is not defined",
     "output_type": "error",
     "traceback": [
      "\u001b[0;31m---------------------------------------------------------------------------\u001b[0m",
      "\u001b[0;31mNameError\u001b[0m                                 Traceback (most recent call last)",
      "\u001b[0;32m/var/folders/_q/kt36bb8n0216dpktp7cc14100000gn/T/ipykernel_78455/763053471.py\u001b[0m in \u001b[0;36m<module>\u001b[0;34m\u001b[0m\n\u001b[0;32m----> 1\u001b[0;31m \u001b[0mtucanliste\u001b[0m\u001b[0;34m.\u001b[0m\u001b[0mcolumns\u001b[0m \u001b[0;34m=\u001b[0m \u001b[0;34m[\u001b[0m\u001b[0;34m'Index'\u001b[0m\u001b[0;34m,\u001b[0m \u001b[0;34m'Matrikelnummer'\u001b[0m\u001b[0;34m,\u001b[0m \u001b[0;34m'Nachname'\u001b[0m\u001b[0;34m,\u001b[0m \u001b[0;34m'Vorname'\u001b[0m\u001b[0;34m]\u001b[0m\u001b[0;34m\u001b[0m\u001b[0;34m\u001b[0m\u001b[0m\n\u001b[0m\u001b[1;32m      2\u001b[0m \u001b[0mtestatliste\u001b[0m \u001b[0;34m=\u001b[0m \u001b[0mpd\u001b[0m\u001b[0;34m.\u001b[0m\u001b[0mmerge\u001b[0m\u001b[0;34m(\u001b[0m\u001b[0mmoodleliste\u001b[0m\u001b[0;34m,\u001b[0m\u001b[0mtucanliste\u001b[0m\u001b[0;34m,\u001b[0m\u001b[0mon\u001b[0m\u001b[0;34m=\u001b[0m\u001b[0;34m[\u001b[0m\u001b[0;34m'Nachname'\u001b[0m\u001b[0;34m,\u001b[0m \u001b[0;34m'Vorname'\u001b[0m\u001b[0;34m]\u001b[0m\u001b[0;34m)\u001b[0m\u001b[0;34m\u001b[0m\u001b[0;34m\u001b[0m\u001b[0m\n\u001b[1;32m      3\u001b[0m \u001b[0mtestatliste_neu\u001b[0m \u001b[0;34m=\u001b[0m \u001b[0mtestatliste\u001b[0m\u001b[0;34m.\u001b[0m\u001b[0mdrop\u001b[0m\u001b[0;34m(\u001b[0m\u001b[0;34m'E-Mail-Adresse'\u001b[0m\u001b[0;34m,\u001b[0m\u001b[0maxis\u001b[0m\u001b[0;34m=\u001b[0m\u001b[0;36m1\u001b[0m\u001b[0;34m)\u001b[0m\u001b[0;34m\u001b[0m\u001b[0;34m\u001b[0m\u001b[0m\n\u001b[1;32m      4\u001b[0m \u001b[0mtucanliste\u001b[0m\u001b[0;34m\u001b[0m\u001b[0;34m\u001b[0m\u001b[0m\n",
      "\u001b[0;31mNameError\u001b[0m: name 'tucanliste' is not defined"
     ]
    }
   ],
   "source": [
    "tucanliste.columns = ['Index', 'Matrikelnummer', 'Nachname', 'Vorname']\n",
    "testatliste = pd.merge(moodleliste,tucanliste,on=['Nachname', 'Vorname'])\n",
    "testatliste_neu = testatliste.drop('E-Mail-Adresse',axis=1)\n",
    "tucanliste"
   ]
  },
  {
   "cell_type": "code",
   "execution_count": 4,
   "metadata": {},
   "outputs": [
    {
     "data": {
      "text/html": [
       "<div>\n",
       "<style scoped>\n",
       "    .dataframe tbody tr th:only-of-type {\n",
       "        vertical-align: middle;\n",
       "    }\n",
       "\n",
       "    .dataframe tbody tr th {\n",
       "        vertical-align: top;\n",
       "    }\n",
       "\n",
       "    .dataframe thead th {\n",
       "        text-align: right;\n",
       "    }\n",
       "</style>\n",
       "<table border=\"1\" class=\"dataframe\">\n",
       "  <thead>\n",
       "    <tr style=\"text-align: right;\">\n",
       "      <th></th>\n",
       "      <th>Name</th>\n",
       "      <th>Definition</th>\n",
       "      <th>Wert</th>\n",
       "    </tr>\n",
       "  </thead>\n",
       "  <tbody>\n",
       "    <tr>\n",
       "      <th>0</th>\n",
       "      <td>Zahl H�heTurm</td>\n",
       "      <td>nbsp</td>\n",
       "      <td>H�heTurm = 10</td>\n",
       "    </tr>\n",
       "    <tr>\n",
       "      <th>1</th>\n",
       "      <td>Zahl SchiebereglerO</td>\n",
       "      <td>NaN</td>\n",
       "      <td>SchiebereglerO = 5</td>\n",
       "    </tr>\n",
       "    <tr>\n",
       "      <th>2</th>\n",
       "      <td>Zahl SchiebereglerB</td>\n",
       "      <td>NaN</td>\n",
       "      <td>SchiebereglerB = 10</td>\n",
       "    </tr>\n",
       "    <tr>\n",
       "      <th>3</th>\n",
       "      <td>Punkt A</td>\n",
       "      <td>NaN</td>\n",
       "      <td>A = (0, 0, 0)</td>\n",
       "    </tr>\n",
       "    <tr>\n",
       "      <th>4</th>\n",
       "      <td>Punkt B</td>\n",
       "      <td>(SchiebereglerB, 0, 0)</td>\n",
       "      <td>B = (10, 0, 0)</td>\n",
       "    </tr>\n",
       "    <tr>\n",
       "      <th>...</th>\n",
       "      <td>...</td>\n",
       "      <td>...</td>\n",
       "      <td>...</td>\n",
       "    </tr>\n",
       "    <tr>\n",
       "      <th>64</th>\n",
       "      <td>Strecke b1</td>\n",
       "      <td>Strecke(Z, Q)</td>\n",
       "      <td>b1 = 19.25</td>\n",
       "    </tr>\n",
       "    <tr>\n",
       "      <th>65</th>\n",
       "      <td>Strecke c1</td>\n",
       "      <td>Strecke(P, U)</td>\n",
       "      <td>c1 = 7.83</td>\n",
       "    </tr>\n",
       "    <tr>\n",
       "      <th>66</th>\n",
       "      <td>Punkt A1(-205122.17, 89740.95, 0)</td>\n",
       "      <td>S t r e c k e</td>\n",
       "      <td>A1 = (-205122.17, 89740.95, 0)</td>\n",
       "    </tr>\n",
       "    <tr>\n",
       "      <th>67</th>\n",
       "      <td>Strecke f2</td>\n",
       "      <td>Strecke(U, A)</td>\n",
       "      <td>f2 = 16.12</td>\n",
       "    </tr>\n",
       "    <tr>\n",
       "      <th>68</th>\n",
       "      <td>Zahl o</td>\n",
       "      <td>S c h i e b e r e g l e r H HöheTurm</td>\n",
       "      <td>o = 151942644503.37</td>\n",
       "    </tr>\n",
       "  </tbody>\n",
       "</table>\n",
       "<p>69 rows × 3 columns</p>\n",
       "</div>"
      ],
      "text/plain": [
       "                                 Name                            Definition  \\\n",
       "0                       Zahl H�heTurm                                  nbsp   \n",
       "1                 Zahl SchiebereglerO                                   NaN   \n",
       "2                 Zahl SchiebereglerB                                   NaN   \n",
       "3                             Punkt A                                   NaN   \n",
       "4                             Punkt B                (SchiebereglerB, 0, 0)   \n",
       "..                                ...                                   ...   \n",
       "64                         Strecke b1                         Strecke(Z, Q)   \n",
       "65                         Strecke c1                         Strecke(P, U)   \n",
       "66  Punkt A1(-205122.17, 89740.95, 0)                         S t r e c k e   \n",
       "67                         Strecke f2                         Strecke(U, A)   \n",
       "68                             Zahl o  S c h i e b e r e g l e r H HöheTurm   \n",
       "\n",
       "                              Wert  \n",
       "0                    H�heTurm = 10  \n",
       "1               SchiebereglerO = 5  \n",
       "2              SchiebereglerB = 10  \n",
       "3                    A = (0, 0, 0)  \n",
       "4                   B = (10, 0, 0)  \n",
       "..                             ...  \n",
       "64                      b1 = 19.25  \n",
       "65                       c1 = 7.83  \n",
       "66  A1 = (-205122.17, 89740.95, 0)  \n",
       "67                      f2 = 16.12  \n",
       "68             o = 151942644503.37  \n",
       "\n",
       "[69 rows x 3 columns]"
      ]
     },
     "execution_count": 4,
     "metadata": {},
     "output_type": "execute_result"
    }
   ],
   "source": [
    "# HTML einlesen\n",
    "kp = pd.read_html('Ressources/Moodle-Abgaben/Dimitri Haas_4591220_assignsubmission_file_/2321090.html')[0]\n",
    "kp\n"
   ]
  }
 ],
 "metadata": {
  "interpreter": {
   "hash": "bfb8d1be4eb0ff16f97c4dda2fb2f596bde776d9e9c6cb0685fa2170af943a35"
  },
  "kernelspec": {
   "display_name": "Python 3.8.8 64-bit ('cv2': conda)",
   "name": "python3"
  },
  "language_info": {
   "codemirror_mode": {
    "name": "ipython",
    "version": 3
   },
   "file_extension": ".py",
   "mimetype": "text/x-python",
   "name": "python",
   "nbconvert_exporter": "python",
   "pygments_lexer": "ipython3",
   "version": "3.8.8"
  },
  "orig_nbformat": 4
 },
 "nbformat": 4,
 "nbformat_minor": 2
}
