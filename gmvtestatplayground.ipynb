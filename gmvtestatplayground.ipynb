{
 "cells": [
  {
   "cell_type": "code",
   "execution_count": 2,
   "metadata": {},
   "outputs": [],
   "source": [
    "import pandas as pd\n",
    "\n",
    "tucanliste = pd.read_excel(r\"C:\\Users\\larsf\\HESSENBOX-DA\\GMV-Tutoren WiSe 2021_2022 (Pascal Mosler)\\Geogebra-Tool\\Sonstige Dateien\\TUCaNTeilnehmer.xlsx\", header = None)"
   ]
  },
  {
   "cell_type": "code",
   "execution_count": 7,
   "metadata": {},
   "outputs": [],
   "source": [
    "moodleliste = pd.read_excel(r\"C:\\Users\\larsf\\HESSENBOX-DA\\GMV-Tutoren WiSe 2021_2022 (Pascal Mosler)\\Geogebra-Tool\\Sonstige Dateien\\MoodleTeilnehmer.xlsx\")"
   ]
  },
  {
   "cell_type": "code",
   "execution_count": 3,
   "metadata": {},
   "outputs": [
    {
     "data": {
      "text/html": [
       "<div>\n",
       "<style scoped>\n",
       "    .dataframe tbody tr th:only-of-type {\n",
       "        vertical-align: middle;\n",
       "    }\n",
       "\n",
       "    .dataframe tbody tr th {\n",
       "        vertical-align: top;\n",
       "    }\n",
       "\n",
       "    .dataframe thead th {\n",
       "        text-align: right;\n",
       "    }\n",
       "</style>\n",
       "<table border=\"1\" class=\"dataframe\">\n",
       "  <thead>\n",
       "    <tr style=\"text-align: right;\">\n",
       "      <th></th>\n",
       "      <th>Index</th>\n",
       "      <th>Matrikelnummer</th>\n",
       "      <th>Nachname</th>\n",
       "      <th>Vorname</th>\n",
       "    </tr>\n",
       "  </thead>\n",
       "  <tbody>\n",
       "    <tr>\n",
       "      <th>0</th>\n",
       "      <td>1</td>\n",
       "      <td>2321088</td>\n",
       "      <td>Mosler</td>\n",
       "      <td>Pascal</td>\n",
       "    </tr>\n",
       "    <tr>\n",
       "      <th>1</th>\n",
       "      <td>2</td>\n",
       "      <td>2321089</td>\n",
       "      <td>Wagenbach</td>\n",
       "      <td>Lars</td>\n",
       "    </tr>\n",
       "    <tr>\n",
       "      <th>2</th>\n",
       "      <td>3</td>\n",
       "      <td>2321090</td>\n",
       "      <td>Haas</td>\n",
       "      <td>Dimitri</td>\n",
       "    </tr>\n",
       "    <tr>\n",
       "      <th>3</th>\n",
       "      <td>4</td>\n",
       "      <td>2321091</td>\n",
       "      <td>Behrendt</td>\n",
       "      <td>Alina</td>\n",
       "    </tr>\n",
       "    <tr>\n",
       "      <th>4</th>\n",
       "      <td>5</td>\n",
       "      <td>2321092</td>\n",
       "      <td>Schumacher</td>\n",
       "      <td>Eric</td>\n",
       "    </tr>\n",
       "    <tr>\n",
       "      <th>5</th>\n",
       "      <td>6</td>\n",
       "      <td>2321093</td>\n",
       "      <td>Rüppel</td>\n",
       "      <td>Uwe</td>\n",
       "    </tr>\n",
       "    <tr>\n",
       "      <th>6</th>\n",
       "      <td>7</td>\n",
       "      <td>2321094</td>\n",
       "      <td>Braun</td>\n",
       "      <td>Franziska</td>\n",
       "    </tr>\n",
       "  </tbody>\n",
       "</table>\n",
       "</div>"
      ],
      "text/plain": [
       "   Index  Matrikelnummer    Nachname    Vorname\n",
       "0      1         2321088      Mosler     Pascal\n",
       "1      2         2321089   Wagenbach       Lars\n",
       "2      3         2321090        Haas    Dimitri\n",
       "3      4         2321091    Behrendt      Alina\n",
       "4      5         2321092  Schumacher       Eric\n",
       "5      6         2321093      Rüppel        Uwe\n",
       "6      7         2321094       Braun  Franziska"
      ]
     },
     "execution_count": 3,
     "metadata": {},
     "output_type": "execute_result"
    }
   ],
   "source": [
    "tucanliste.columns = ['Index', 'Matrikelnummer', 'Nachname', 'Vorname']\n",
    "tucanliste"
   ]
  },
  {
   "cell_type": "code",
   "execution_count": 13,
   "metadata": {},
   "outputs": [
    {
     "name": "stdout",
     "output_type": "stream",
     "text": [
      "   Index  Matrikelnummer    Nachname    Vorname Punkte Bestanden\n",
      "0      1         2321088      Mosler     Pascal                 \n",
      "1      2         2321089   Wagenbach       Lars                 \n",
      "2      3         2321090        Haas    Dimitri                 \n",
      "3      4         2321091    Behrendt      Alina                 \n",
      "4      5         2321092  Schumacher       Eric                 \n",
      "5      6         2321093      Rüppel        Uwe                 \n",
      "6      7         2321094       Braun  Franziska                 \n"
     ]
    }
   ],
   "source": [
    "tucanliste[['Punkte','Bestanden']] = ''\n",
    "print(tucanliste)"
   ]
  },
  {
   "cell_type": "code",
   "execution_count": 17,
   "metadata": {},
   "outputs": [
    {
     "data": {
      "text/html": [
       "<div>\n",
       "<style scoped>\n",
       "    .dataframe tbody tr th:only-of-type {\n",
       "        vertical-align: middle;\n",
       "    }\n",
       "\n",
       "    .dataframe tbody tr th {\n",
       "        vertical-align: top;\n",
       "    }\n",
       "\n",
       "    .dataframe thead th {\n",
       "        text-align: right;\n",
       "    }\n",
       "</style>\n",
       "<table border=\"1\" class=\"dataframe\">\n",
       "  <thead>\n",
       "    <tr style=\"text-align: right;\">\n",
       "      <th></th>\n",
       "      <th>Vorname</th>\n",
       "      <th>Nachname</th>\n",
       "      <th>Matrikelnummer</th>\n",
       "    </tr>\n",
       "  </thead>\n",
       "  <tbody>\n",
       "    <tr>\n",
       "      <th>0</th>\n",
       "      <td>Pascal</td>\n",
       "      <td>Mosler</td>\n",
       "      <td>2321088</td>\n",
       "    </tr>\n",
       "    <tr>\n",
       "      <th>1</th>\n",
       "      <td>Lars</td>\n",
       "      <td>Wagenbach</td>\n",
       "      <td>2321089</td>\n",
       "    </tr>\n",
       "    <tr>\n",
       "      <th>2</th>\n",
       "      <td>Dimitri</td>\n",
       "      <td>Haas</td>\n",
       "      <td>2321090</td>\n",
       "    </tr>\n",
       "    <tr>\n",
       "      <th>3</th>\n",
       "      <td>Alina</td>\n",
       "      <td>Behrendt</td>\n",
       "      <td>2321091</td>\n",
       "    </tr>\n",
       "    <tr>\n",
       "      <th>4</th>\n",
       "      <td>Eric</td>\n",
       "      <td>Schumacher</td>\n",
       "      <td>2321092</td>\n",
       "    </tr>\n",
       "    <tr>\n",
       "      <th>5</th>\n",
       "      <td>Franziska</td>\n",
       "      <td>Braun</td>\n",
       "      <td>2321094</td>\n",
       "    </tr>\n",
       "  </tbody>\n",
       "</table>\n",
       "</div>"
      ],
      "text/plain": [
       "     Vorname    Nachname  Matrikelnummer\n",
       "0     Pascal      Mosler         2321088\n",
       "1       Lars   Wagenbach         2321089\n",
       "2    Dimitri        Haas         2321090\n",
       "3      Alina    Behrendt         2321091\n",
       "4       Eric  Schumacher         2321092\n",
       "5  Franziska       Braun         2321094"
      ]
     },
     "execution_count": 17,
     "metadata": {},
     "output_type": "execute_result"
    }
   ],
   "source": [
    "testatliste = pd.merge(moodleliste,tucanliste,on=['Nachname', 'Vorname'])\n",
    "testatliste_neu = testatliste.drop('E-Mail-Adresse',axis=1)\n"
   ]
  },
  {
   "cell_type": "code",
   "execution_count": 1,
   "metadata": {},
   "outputs": [
    {
     "ename": "NameError",
     "evalue": "name 'testatliste_neu' is not defined",
     "output_type": "error",
     "traceback": [
      "\u001b[1;31m---------------------------------------------------------------------------\u001b[0m",
      "\u001b[1;31mNameError\u001b[0m                                 Traceback (most recent call last)",
      "\u001b[1;32m~\\AppData\\Local\\Temp/ipykernel_16364/1878068176.py\u001b[0m in \u001b[0;36m<module>\u001b[1;34m\u001b[0m\n\u001b[1;32m----> 1\u001b[1;33m \u001b[0mtestatliste_neu\u001b[0m\u001b[1;33m\u001b[0m\u001b[1;33m\u001b[0m\u001b[0m\n\u001b[0m",
      "\u001b[1;31mNameError\u001b[0m: name 'testatliste_neu' is not defined"
     ]
    }
   ],
   "source": [
    "testatliste_neu"
   ]
  }
 ],
 "metadata": {
  "interpreter": {
   "hash": "0600588c3b5f4418cbe7b5ebc6825b479f3bc010269d8b60d75058cdd010adfe"
  },
  "kernelspec": {
   "display_name": "Python 3.7.8 64-bit",
   "name": "python3"
  },
  "language_info": {
   "codemirror_mode": {
    "name": "ipython",
    "version": 3
   },
   "file_extension": ".py",
   "mimetype": "text/x-python",
   "name": "python",
   "nbconvert_exporter": "python",
   "pygments_lexer": "ipython3",
   "version": "3.7.8"
  },
  "orig_nbformat": 4
 },
 "nbformat": 4,
 "nbformat_minor": 2
}
