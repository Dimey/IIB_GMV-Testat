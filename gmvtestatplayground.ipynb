{
 "cells": [
  {
   "cell_type": "code",
   "execution_count": 40,
   "metadata": {},
   "outputs": [],
   "source": [
    "import pandas as pd\n",
    "import numpy as np\n",
    "import datetime\n",
    "from fpdf import FPDF"
   ]
  },
  {
   "cell_type": "code",
   "execution_count": 41,
   "metadata": {},
   "outputs": [],
   "source": [
    "datumTestat = '13.12.2021'\n",
    "datumExport = datetime.datetime.now()\n",
    "bestehensGrenze = 15\n",
    "vorname = 'Max'\n",
    "nachname = 'Mustermann'\n",
    "matrikelnummer = 1234567\n",
    "\n",
    "punkteAufgabe1 = 10\n",
    "punkteAufgabe2 = 8\n",
    "punkteAufgabe3 = 6\n",
    "\n",
    "Bemerkungen = 'Keine weiteren Bemerkungen.\\nWeiter so.'"
   ]
  },
  {
   "cell_type": "code",
   "execution_count": 49,
   "metadata": {},
   "outputs": [
    {
     "data": {
      "text/plain": [
       "''"
      ]
     },
     "execution_count": 49,
     "metadata": {},
     "output_type": "execute_result"
    }
   ],
   "source": [
    "class TestatPDF(FPDF):\n",
    "    def header(self):\n",
    "        # IIB Logo\n",
    "        self.image(name='Assets/iib_logo.png', x=160, y=10, w=35)\n",
    "        # Font\n",
    "        self.set_font(family='Arial', style='B', size=16)\n",
    "        # Title\n",
    "        self.cell(w=0, h=8, txt='Geometrische Modellierung und Visualisierung I', border=False, ln=1, align='L')\n",
    "        self.set_font('Arial', '', 14)\n",
    "        self.cell(w=130, h=8, txt='Wintersemester 2021/2022', align='L')\n",
    "        # Line break\n",
    "        self.ln(24)\n",
    "\n",
    "# Create a PDF object\n",
    "pdf = TestatPDF('P', 'mm')\n",
    "\n",
    "# Add a page\n",
    "pdf.add_page()\n",
    "pdf.set_font(family='Arial', style='B', size=14)\n",
    "pdf.cell(w=0, h=8, txt='Bewertung des Testats vom 13. Dezember 2021', border=False, ln=1, align='L')\n",
    "\n",
    "# Create PDF-file\n",
    "pdf.output('test.pdf')"
   ]
  }
 ],
 "metadata": {
  "interpreter": {
   "hash": "bfb8d1be4eb0ff16f97c4dda2fb2f596bde776d9e9c6cb0685fa2170af943a35"
  },
  "kernelspec": {
   "display_name": "Python 3.8.8 64-bit ('cv2': conda)",
   "name": "python3"
  },
  "language_info": {
   "codemirror_mode": {
    "name": "ipython",
    "version": 3
   },
   "file_extension": ".py",
   "mimetype": "text/x-python",
   "name": "python",
   "nbconvert_exporter": "python",
   "pygments_lexer": "ipython3",
   "version": "3.8.8"
  },
  "orig_nbformat": 4
 },
 "nbformat": 4,
 "nbformat_minor": 2
}
