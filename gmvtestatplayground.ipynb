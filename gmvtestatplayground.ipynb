{
 "cells": [
  {
   "cell_type": "code",
   "execution_count": 1,
   "metadata": {},
   "outputs": [],
   "source": [
    "import pandas as pd\n",
    "import numpy as np\n",
    "import datetime\n",
    "from fpdf import FPDF"
   ]
  },
  {
   "cell_type": "code",
   "execution_count": 2,
   "metadata": {},
   "outputs": [],
   "source": [
    "datumTestat = '13. Dezember 2021'\n",
    "datumExport = datetime.datetime.now()\n",
    "bestehensGrenze = 15\n",
    "vorname = 'Max'\n",
    "nachname = 'Mustermann'\n",
    "matrikelnummer = 1234567\n",
    "testierer = 'Dimitri Haas'\n",
    "\n",
    "punkteAufgabe1 = 10\n",
    "punkteAufgabe2 = 8\n",
    "punkteAufgabe3 = 6\n",
    "punkteGesamt = punkteAufgabe1+punkteAufgabe2+punkteAufgabe3\n",
    "\n",
    "bemerkungen = 'Keine weiteren Bemerkungen.\\nWeiter so.'"
   ]
  },
  {
   "cell_type": "code",
   "execution_count": 3,
   "metadata": {},
   "outputs": [
    {
     "data": {
      "text/plain": [
       "''"
      ]
     },
     "execution_count": 3,
     "metadata": {},
     "output_type": "execute_result"
    }
   ],
   "source": [
    "class TestatPDF(FPDF):\n",
    "    def __init__(self):\n",
    "        super().__init__('P','mm')\n",
    "\n",
    "        # Meta data\n",
    "        self.set_title(f'Testatbewertung für {vorname} {nachname}')\n",
    "        self.set_author(f'{testierer}')\n",
    "\n",
    "    def header(self):\n",
    "        # IIB Logo\n",
    "        self.image(name='Assets/iib_logo.png', x=170, y=10, w=30)\n",
    "        # Font\n",
    "        self.set_font(family='Arial', style='B', size=16)\n",
    "        # Title\n",
    "        self.cell(w=0, h=8, txt='Geometrische Modellierung und Visualisierung I', border=False, ln=1, align='L')\n",
    "        self.set_font('Arial', '', 14)\n",
    "        self.cell(w=130, h=8, txt='Wintersemester 2021/2022', align='L')\n",
    "        # Line break\n",
    "        self.ln(24)\n",
    "\n",
    "    def footer(self):\n",
    "        # Set position\n",
    "        self.set_y(-16)\n",
    "        # Set font and color\n",
    "        self.set_font(family='Arial', style='I', size=10)\n",
    "        self.set_text_color(0,0,0)\n",
    "        # Set text\n",
    "        self.cell(w=0, h=8, txt=f'PDF erzeugt am {str(datumExport)[0:19]} von {testierer}', align='C')\n",
    "\n",
    "# Create a PDF object\n",
    "pdf = TestatPDF()\n",
    "\n",
    "# Add a page\n",
    "pdf.add_page()\n",
    "\n",
    "# Name and student id\n",
    "pdf.set_font(family='Arial', style='B', size=14)\n",
    "pdf.cell(w=0, h=8, txt=f'Bewertung des Testats vom {datumTestat}', border=False, ln=1, align='L')\n",
    "pdf.set_font(family='Arial', style='U', size=12)\n",
    "pdf.cell(w=35, h=8, txt='Name:', align='L')\n",
    "pdf.set_font(family='Arial', style='', size=12)\n",
    "pdf.cell(w=35, h=8, txt=f'{vorname} {nachname}', align='L', ln=1)\n",
    "pdf.set_font(family='Arial', style='U', size=12)\n",
    "pdf.cell(w=35, h=8, txt='Matrikelnummer:', align='L')\n",
    "pdf.set_font(family='Arial', style='', size=12)\n",
    "pdf.cell(w=35, h=8, txt=f'{matrikelnummer}', align='L')\n",
    "pdf.ln(24)\n",
    "\n",
    "# tasks and gradings\n",
    "# task 1\n",
    "pdf.set_font(family='Arial', style='b', size=12)\n",
    "pdf.cell(w=0, h=8, txt=f\"Aufgabe 1: Schattenwurf\", align='L')\n",
    "pdf.set_font(family='Courier', style='b', size=12)\n",
    "pdf.cell(w=0, h=8, txt=f\"(9 / 12 Punkte)\", align='R', ln=1)\n",
    "# crit 1\n",
    "pdf.set_font(family='Arial', style='', size=12)\n",
    "pdf.cell(w=0, h=8, txt=f\"Schatteneckpunkte\", align='L')\n",
    "pdf.set_font(family='Courier', style='', size=12)\n",
    "pdf.cell(w=0, h=8, txt=f\"(4 / 6 Punkte)\", align='R', ln=1)\n",
    "# crit 2\n",
    "pdf.set_font(family='Arial', style='', size=12)\n",
    "pdf.cell(w=0, h=8, txt=f\"Stamm ausgespart\", align='L')\n",
    "pdf.set_font(family='Courier', style='', size=12)\n",
    "pdf.cell(w=0, h=8, txt=f\"(1 / 1 Punkte)\", align='R', ln=1)\n",
    "# crit 3\n",
    "pdf.set_font(family='Arial', style='', size=12)\n",
    "pdf.cell(w=0, h=8, txt=f\"Vielecke zwischen Schatteneckpunkten\", align='L')\n",
    "pdf.set_font(family='Courier', style='', size=12)\n",
    "pdf.cell(w=0, h=8, txt=f\"(3 / 4 Punkte)\", align='R', ln=1)\n",
    "# crit 4\n",
    "pdf.set_font(family='Arial', style='', size=12)\n",
    "pdf.cell(w=0, h=8, txt=f\"Vielecke verschneidungsfrei\", align='L')\n",
    "pdf.set_font(family='Courier', style='', size=12)\n",
    "pdf.cell(w=0, h=8, txt=f\"(1 / 1 Punkte)\", align='R', ln=1)\n",
    "pdf.ln(16)\n",
    "\n",
    "# task 2\n",
    "pdf.cell(w=0, h=8, txt=f'Aufgabe 2: Dreitafelprojektion ({punkteAufgabe2}/10 Punkte)', align='L')\n",
    "pdf.ln(16)\n",
    "\n",
    "# task 3\n",
    "pdf.cell(w=0, h=8, txt=f'Aufgabe 3: Abbildung 3D auf 2D ({punkteAufgabe3}/8 Punkte)', align='L')\n",
    "pdf.ln(24)\n",
    "\n",
    "# notes\n",
    "pdf.cell(w=0, h=8, txt=f'Bemerkungen', ln=1, align='L')\n",
    "pdf.set_font(family='Arial', style='', size=12)\n",
    "pdf.multi_cell(w=100, h=8, txt=f'{bemerkungen}', align='L')\n",
    "\n",
    "# final grade\n",
    "pdf.set_y(-48)\n",
    "pdf.set_font(family='Arial', style='B', size=12)\n",
    "pdf.cell(117)\n",
    "pdf.cell(w=76, h=16, txt='', border=True, align='R')\n",
    "pdf.cell(w=0, h=8, txt=f'Gesamtpunktzahl:  {punkteGesamt} / 30 ({round(punkteGesamt/30,2)*100}%)', align='R', ln=1)\n",
    "if 14 > bestehensGrenze:\n",
    "    pdf.set_text_color(102,164,99)\n",
    "    pdf.cell(w=0, h=8, txt=f'BESTANDEN', align='R')\n",
    "else:\n",
    "    pdf.set_text_color(191,70,39)\n",
    "    pdf.cell(w=0, h=8, txt=f'NICHT BESTANDEN', align='R')\n",
    "\n",
    "\n",
    "# Create PDF-file\n",
    "pdf.output(f'{matrikelnummer}_{vorname}_{nachname}.pdf')"
   ]
  },
  {
   "cell_type": "code",
   "execution_count": null,
   "metadata": {},
   "outputs": [],
   "source": [
    "df = pd.read_html(\"Ressources/aufgabenstellung.html\")[0]\n",
    "df"
   ]
  },
  {
   "cell_type": "code",
   "execution_count": 9,
   "metadata": {},
   "outputs": [
    {
     "data": {
      "text/plain": [
       "'7.0'"
      ]
     },
     "execution_count": 9,
     "metadata": {},
     "output_type": "execute_result"
    }
   ],
   "source": [
    "a = np.array([7.0])\n",
    "f'{a[0]}'"
   ]
  },
  {
   "cell_type": "code",
   "execution_count": 45,
   "metadata": {},
   "outputs": [
    {
     "data": {
      "text/plain": [
       "0     a\n",
       "1    ab\n",
       "2    we\n",
       "dtype: object"
      ]
     },
     "execution_count": 45,
     "metadata": {},
     "output_type": "execute_result"
    }
   ],
   "source": [
    "import numpy as np\n",
    "import pandas as pd\n",
    "a = np.array(['aabaa', 'aaaaab', 'ewwewe'])\n",
    "pd.Series(a).str.slice(start=4)"
   ]
  },
  {
   "cell_type": "code",
   "execution_count": 20,
   "metadata": {},
   "outputs": [
    {
     "data": {
      "text/plain": [
       "array([0, 1])"
      ]
     },
     "execution_count": 20,
     "metadata": {},
     "output_type": "execute_result"
    }
   ],
   "source": [
    "np.flatnonzero(np.core.defchararray.find(a,'ab')!=-1)"
   ]
  },
  {
   "cell_type": "code",
   "execution_count": 41,
   "metadata": {},
   "outputs": [
    {
     "data": {
      "text/plain": [
       "array([ True, False,  True])"
      ]
     },
     "execution_count": 41,
     "metadata": {},
     "output_type": "execute_result"
    }
   ],
   "source": [
    "(np.where(a=='aabaa', True, False)) | (np.char.find(a, f'eww')!=-1)"
   ]
  },
  {
   "cell_type": "code",
   "execution_count": null,
   "metadata": {},
   "outputs": [],
   "source": [
    "import glob\n",
    "\n",
    "jpgFilenamesList = [f for f in os.listdir('Ressources/Moodle-Abgaben') if os.path.isfile(os.path.join('Ressources/Moodle-Abgaben', f))]\n",
    "\n",
    "for r, d, f in os.walk('Ressources/Moodle-Abgaben'):\n",
    "    for files in f:\n",
    "        print(files)"
   ]
  },
  {
   "cell_type": "code",
   "execution_count": 10,
   "metadata": {},
   "outputs": [
    {
     "data": {
      "text/plain": [
       "['Ressources/Moodle-Abgaben/Eric Schumacher_4591150_assignsubmission_file_/2321092.html',\n",
       " 'Ressources/Moodle-Abgaben/Pascal Mosler_4591141_assignsubmission_file_/2321088.html',\n",
       " 'Ressources/Moodle-Abgaben/Lars Wagenbach_4591129_assignsubmission_file_/2321089.html',\n",
       " 'Ressources/Moodle-Abgaben/Alina Behrendt_4591134_assignsubmission_file_/2321091.html',\n",
       " 'Ressources/Moodle-Abgaben/Dimitri Haas_4591220_assignsubmission_file_/2321090.html']"
      ]
     },
     "execution_count": 10,
     "metadata": {},
     "output_type": "execute_result"
    }
   ],
   "source": [
    "shpfiles = []\n",
    "for dirpath, subdirs, files in os.walk('Ressources/Moodle-Abgaben'):\n",
    "    for x in files:\n",
    "        if x.endswith(\".html\"):\n",
    "            shpfiles.append(os.path.join(dirpath, x))\n",
    "\n",
    "shpfiles"
   ]
  },
  {
   "cell_type": "code",
   "execution_count": 14,
   "metadata": {},
   "outputs": [
    {
     "data": {
      "text/plain": [
       "'hello'"
      ]
     },
     "execution_count": 14,
     "metadata": {},
     "output_type": "execute_result"
    }
   ],
   "source": [
    "id = 'hello/1771189.html'\n",
    "id[0:-13]"
   ]
  }
 ],
 "metadata": {
  "interpreter": {
   "hash": "bfb8d1be4eb0ff16f97c4dda2fb2f596bde776d9e9c6cb0685fa2170af943a35"
  },
  "kernelspec": {
   "display_name": "Python 3.8.8 64-bit ('cv2': conda)",
   "name": "python3"
  },
  "language_info": {
   "codemirror_mode": {
    "name": "ipython",
    "version": 3
   },
   "file_extension": ".py",
   "mimetype": "text/x-python",
   "name": "python",
   "nbconvert_exporter": "python",
   "pygments_lexer": "ipython3",
   "version": "3.8.8"
  },
  "orig_nbformat": 4
 },
 "nbformat": 4,
 "nbformat_minor": 2
}
